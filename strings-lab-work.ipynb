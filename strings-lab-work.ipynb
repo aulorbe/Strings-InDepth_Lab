{
 "cells": [
  {
   "cell_type": "code",
   "execution_count": 1,
   "metadata": {},
   "outputs": [
    {
     "name": "stdout",
     "output_type": "stream",
     "text": [
      "Hi my name is Audrey\n"
     ]
    }
   ],
   "source": [
    "def say_hello(name):\n",
    "    print(f\"Hi my name is {name}\")\n",
    "\n",
    "    # takes in a name and returns the string \"Hi my name is \" plus the name\n",
    "    # use whichever form of interpolation is most appropriate\n",
    "\n",
    "say_hello('Audrey')    "
   ]
  },
  {
   "cell_type": "code",
   "execution_count": 2,
   "metadata": {},
   "outputs": [
    {
     "data": {
      "text/plain": [
       "'Jaime likes dogs'"
      ]
     },
     "execution_count": 2,
     "metadata": {},
     "output_type": "execute_result"
    }
   ],
   "source": [
    "def replace_given_substring(str_to_replace, str_to_insert, string):\n",
    "    return string.replace(str_to_replace,str_to_insert)\n",
    "    \n",
    "replace_given_substring(\"Audrey\", \"Jaime\",\"Audrey likes dogs\")\n",
    "\n",
    "\n",
    "    # this function takes three parameters --\n",
    "    # the first is the substring we would like to replace.\n",
    "    # the second substring is what we would like to use inplace of the first\n",
    "    # the third is the actual string which we want to operate on\n",
    "    # the function should return the new string\n"
   ]
  },
  {
   "cell_type": "code",
   "execution_count": 3,
   "metadata": {},
   "outputs": [
    {
     "data": {
      "text/plain": [
       "'Bob!? hi!.'"
      ]
     },
     "execution_count": 3,
     "metadata": {},
     "output_type": "execute_result"
    }
   ],
   "source": [
    "import re\n",
    "\n",
    "def remove_duplicate_punctuation(s):\n",
    "    return re.sub(r\"(\\W)\\1*\", r'\\1', s)    \n",
    "\n",
    "#     spec_chars = list(set(re.findall('[^A-Z^a-z\\s]', s)))\n",
    "#     for spec in spec_chars:\n",
    "#         s = re.sub('[' + spec + ']+', spec, s)\n",
    "#     return s\n",
    " \n",
    "# should remove all duplicate punctuation marks in a given string\n",
    "# i.e. \"Hi!!!!!!\" should be reformatted to \"Hi!\"\n",
    "# i.e. \"Hello..... My name is Terrance\n",
    "    \n",
    "remove_duplicate_punctuation(\"Bob!!!? hi!!!...\")"
   ]
  },
  {
   "cell_type": "code",
   "execution_count": 4,
   "metadata": {},
   "outputs": [
    {
     "data": {
      "text/plain": [
       "True"
      ]
     },
     "execution_count": 4,
     "metadata": {},
     "output_type": "execute_result"
    }
   ],
   "source": [
    "def validate_email_format(email):\n",
    "    regex = '\\w+\\@\\w+.com'\n",
    "    output = re.match(regex,email)\n",
    "    if output:\n",
    "        return True\n",
    "    else:\n",
    "        return False\n",
    "\n",
    "    \n",
    "    \n",
    "    # should make sure there are no special characters (i.e. *,~,#,$,%,&,(,),`,\",',:,;,/,>,<)\n",
    "    # make sure the email contains an @ symbol and a .com\n",
    "    # return True if format passes tests, return False otherwise\n",
    "    \n",
    "validate_email_format(\"au__lorbe@gmail.com\")"
   ]
  },
  {
   "cell_type": "code",
   "execution_count": 10,
   "metadata": {},
   "outputs": [
    {
     "data": {
      "text/plain": [
       "'XXXX-XXXX-XX-1234'"
      ]
     },
     "execution_count": 10,
     "metadata": {},
     "output_type": "execute_result"
    }
   ],
   "source": [
    "def anonymize_credit_card_number(cc):\n",
    "    for c in cc:\n",
    "        if\n",
    "        \n",
    "#     str.replace(old, new)\n",
    "        \n",
    "    \n",
    "    \n",
    "    \n",
    "    \n",
    "    # should replace all characters except the last 4 with 'X'\n",
    "    # return the anonymized credit card number as a string\n",
    "    # the credit card may have characters that are not numbers (i.e. spaces and dashes, which we would want to keep)\n",
    "    # i.e. 1234-5678-90-1234 -> XXXX-XXXX-XX-1234\n",
    "anonymize_credit_card_number('2234-1234-98-1234')"
   ]
  },
  {
   "cell_type": "code",
   "execution_count": null,
   "metadata": {},
   "outputs": [],
   "source": []
  }
 ],
 "metadata": {
  "kernelspec": {
   "display_name": "Python 3",
   "language": "python",
   "name": "python3"
  },
  "language_info": {
   "codemirror_mode": {
    "name": "ipython",
    "version": 3
   },
   "file_extension": ".py",
   "mimetype": "text/x-python",
   "name": "python",
   "nbconvert_exporter": "python",
   "pygments_lexer": "ipython3",
   "version": "3.6.5"
  }
 },
 "nbformat": 4,
 "nbformat_minor": 2
}
