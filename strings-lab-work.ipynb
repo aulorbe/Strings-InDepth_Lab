{
 "cells": [
  {
   "cell_type": "code",
   "execution_count": 8,
   "metadata": {},
   "outputs": [
    {
     "name": "stdout",
     "output_type": "stream",
     "text": [
      "Hi my name is Audrey\n"
     ]
    }
   ],
   "source": [
    "def say_hello(name):\n",
    "    print(f\"Hi my name is {name}\")\n",
    "\n",
    "    # takes in a name and returns the string \"Hi my name is \" plus the name\n",
    "    # use whichever form of interpolation is most appropriate\n",
    "\n",
    "say_hello('Audrey')    "
   ]
  },
  {
   "cell_type": "code",
   "execution_count": 11,
   "metadata": {},
   "outputs": [
    {
     "data": {
      "text/plain": [
       "'Jaime likes dogs'"
      ]
     },
     "execution_count": 11,
     "metadata": {},
     "output_type": "execute_result"
    }
   ],
   "source": [
    "def replace_given_substring(str_to_replace, str_to_insert, string):\n",
    "    return string.replace(str_to_replace,str_to_insert)\n",
    "    \n",
    "replace_given_substring(\"Audrey\", \"Jaime\",\"Audrey likes dogs\")\n",
    "\n",
    "\n",
    "    # this function takes three parameters --\n",
    "    # the first is the substring we would like to replace.\n",
    "    # the second substring is what we would like to use inplace of the first\n",
    "    # the third is the actual string which we want to operate on\n",
    "    # the function should return the new string\n"
   ]
  },
  {
   "cell_type": "code",
   "execution_count": 128,
   "metadata": {},
   "outputs": [
    {
     "data": {
      "text/plain": [
       "'Bob!? hi!.'"
      ]
     },
     "execution_count": 128,
     "metadata": {},
     "output_type": "execute_result"
    }
   ],
   "source": [
    "import re\n",
    "\n",
    "def remove_duplicate_punctuation(s):\n",
    "    spec_chars = list(set(re.findall('[^A-Z^a-z\\s]', s)))\n",
    "    for spec in spec_chars:\n",
    "        s = re.sub('[' + spec + ']+', spec, s)\n",
    "    return s\n",
    " \n",
    "    # should remove all duplicate punctuation marks in a given string\n",
    "    # i.e. \"Hi!!!!!!\" should be reformatted to \"Hi!\"\n",
    "    # i.e. \"Hello..... My name is Terrance\n",
    "    \n",
    "remove_duplicate_punctuation(\"Bob!!!? hi!!!...\")"
   ]
  },
  {
   "cell_type": "code",
   "execution_count": null,
   "metadata": {},
   "outputs": [],
   "source": []
  },
  {
   "cell_type": "code",
   "execution_count": null,
   "metadata": {},
   "outputs": [],
   "source": []
  }
 ],
 "metadata": {
  "kernelspec": {
   "display_name": "Python 3",
   "language": "python",
   "name": "python3"
  },
  "language_info": {
   "codemirror_mode": {
    "name": "ipython",
    "version": 3
   },
   "file_extension": ".py",
   "mimetype": "text/x-python",
   "name": "python",
   "nbconvert_exporter": "python",
   "pygments_lexer": "ipython3",
   "version": "3.6.5"
  }
 },
 "nbformat": 4,
 "nbformat_minor": 2
}
